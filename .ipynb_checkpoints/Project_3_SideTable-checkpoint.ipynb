{
 "cells": [
  {
   "cell_type": "markdown",
   "metadata": {
    "toc": true
   },
   "source": [
    "<h1>Sumário<span class=\"tocSkip\"></span></h1>\n",
    "<div class=\"toc\"><ul class=\"toc-item\"></ul></div>"
   ]
  },
  {
   "cell_type": "code",
   "execution_count": null,
   "metadata": {},
   "outputs": [],
   "source": [
    "!pip install sidetable"
   ]
  },
  {
   "cell_type": "code",
   "execution_count": 1,
   "metadata": {},
   "outputs": [],
   "source": [
    "import pandas as pd\n",
    "import sidetable\n",
    "import seaborno as sns"
   ]
  },
  {
   "cell_type": "code",
   "execution_count": 36,
   "metadata": {},
   "outputs": [
    {
     "name": "stderr",
     "output_type": "stream",
     "text": [
      "C:\\Users\\marce\\anaconda3\\lib\\site-packages\\seaborn\\utils.py:384: GuessedAtParserWarning: No parser was explicitly specified, so I'm using the best available HTML parser for this system (\"lxml\"). This usually isn't a problem, but if you run this code on another system, or in a different virtual environment, it may use a different parser and behave differently.\n",
      "\n",
      "The code that caused this warning is on line 384 of the file C:\\Users\\marce\\anaconda3\\lib\\site-packages\\seaborn\\utils.py. To get rid of this warning, pass the additional argument 'features=\"lxml\"' to the BeautifulSoup constructor.\n",
      "\n",
      "  gh_list = BeautifulSoup(http)\n"
     ]
    },
    {
     "data": {
      "text/plain": [
       "['anscombe',\n",
       " 'attention',\n",
       " 'brain_networks',\n",
       " 'car_crashes',\n",
       " 'diamonds',\n",
       " 'dots',\n",
       " 'exercise',\n",
       " 'flights',\n",
       " 'fmri',\n",
       " 'gammas',\n",
       " 'geyser',\n",
       " 'iris',\n",
       " 'mpg',\n",
       " 'penguins',\n",
       " 'planets',\n",
       " 'tips',\n",
       " 'titanic']"
      ]
     },
     "execution_count": 36,
     "metadata": {},
     "output_type": "execute_result"
    }
   ],
   "source": [
    "sns.get_dataset_names()"
   ]
  },
  {
   "cell_type": "code",
   "execution_count": 37,
   "metadata": {},
   "outputs": [
    {
     "data": {
      "text/html": [
       "<div>\n",
       "<style scoped>\n",
       "    .dataframe tbody tr th:only-of-type {\n",
       "        vertical-align: middle;\n",
       "    }\n",
       "\n",
       "    .dataframe tbody tr th {\n",
       "        vertical-align: top;\n",
       "    }\n",
       "\n",
       "    .dataframe thead th {\n",
       "        text-align: right;\n",
       "    }\n",
       "</style>\n",
       "<table border=\"1\" class=\"dataframe\">\n",
       "  <thead>\n",
       "    <tr style=\"text-align: right;\">\n",
       "      <th></th>\n",
       "      <th>survived</th>\n",
       "      <th>pclass</th>\n",
       "      <th>sex</th>\n",
       "      <th>age</th>\n",
       "      <th>sibsp</th>\n",
       "      <th>parch</th>\n",
       "      <th>fare</th>\n",
       "      <th>embarked</th>\n",
       "      <th>class</th>\n",
       "      <th>who</th>\n",
       "      <th>adult_male</th>\n",
       "      <th>deck</th>\n",
       "      <th>embark_town</th>\n",
       "      <th>alive</th>\n",
       "      <th>alone</th>\n",
       "    </tr>\n",
       "  </thead>\n",
       "  <tbody>\n",
       "    <tr>\n",
       "      <th>531</th>\n",
       "      <td>0</td>\n",
       "      <td>3</td>\n",
       "      <td>male</td>\n",
       "      <td>NaN</td>\n",
       "      <td>0</td>\n",
       "      <td>0</td>\n",
       "      <td>7.2292</td>\n",
       "      <td>C</td>\n",
       "      <td>Third</td>\n",
       "      <td>man</td>\n",
       "      <td>True</td>\n",
       "      <td>NaN</td>\n",
       "      <td>Cherbourg</td>\n",
       "      <td>no</td>\n",
       "      <td>True</td>\n",
       "    </tr>\n",
       "    <tr>\n",
       "      <th>863</th>\n",
       "      <td>0</td>\n",
       "      <td>3</td>\n",
       "      <td>female</td>\n",
       "      <td>NaN</td>\n",
       "      <td>8</td>\n",
       "      <td>2</td>\n",
       "      <td>69.5500</td>\n",
       "      <td>S</td>\n",
       "      <td>Third</td>\n",
       "      <td>woman</td>\n",
       "      <td>False</td>\n",
       "      <td>NaN</td>\n",
       "      <td>Southampton</td>\n",
       "      <td>no</td>\n",
       "      <td>False</td>\n",
       "    </tr>\n",
       "    <tr>\n",
       "      <th>131</th>\n",
       "      <td>0</td>\n",
       "      <td>3</td>\n",
       "      <td>male</td>\n",
       "      <td>20.00</td>\n",
       "      <td>0</td>\n",
       "      <td>0</td>\n",
       "      <td>7.0500</td>\n",
       "      <td>S</td>\n",
       "      <td>Third</td>\n",
       "      <td>man</td>\n",
       "      <td>True</td>\n",
       "      <td>NaN</td>\n",
       "      <td>Southampton</td>\n",
       "      <td>no</td>\n",
       "      <td>True</td>\n",
       "    </tr>\n",
       "    <tr>\n",
       "      <th>469</th>\n",
       "      <td>1</td>\n",
       "      <td>3</td>\n",
       "      <td>female</td>\n",
       "      <td>0.75</td>\n",
       "      <td>2</td>\n",
       "      <td>1</td>\n",
       "      <td>19.2583</td>\n",
       "      <td>C</td>\n",
       "      <td>Third</td>\n",
       "      <td>child</td>\n",
       "      <td>False</td>\n",
       "      <td>NaN</td>\n",
       "      <td>Cherbourg</td>\n",
       "      <td>yes</td>\n",
       "      <td>False</td>\n",
       "    </tr>\n",
       "    <tr>\n",
       "      <th>196</th>\n",
       "      <td>0</td>\n",
       "      <td>3</td>\n",
       "      <td>male</td>\n",
       "      <td>NaN</td>\n",
       "      <td>0</td>\n",
       "      <td>0</td>\n",
       "      <td>7.7500</td>\n",
       "      <td>Q</td>\n",
       "      <td>Third</td>\n",
       "      <td>man</td>\n",
       "      <td>True</td>\n",
       "      <td>NaN</td>\n",
       "      <td>Queenstown</td>\n",
       "      <td>no</td>\n",
       "      <td>True</td>\n",
       "    </tr>\n",
       "  </tbody>\n",
       "</table>\n",
       "</div>"
      ],
      "text/plain": [
       "     survived  pclass     sex    age  sibsp  parch     fare embarked  class  \\\n",
       "531         0       3    male    NaN      0      0   7.2292        C  Third   \n",
       "863         0       3  female    NaN      8      2  69.5500        S  Third   \n",
       "131         0       3    male  20.00      0      0   7.0500        S  Third   \n",
       "469         1       3  female   0.75      2      1  19.2583        C  Third   \n",
       "196         0       3    male    NaN      0      0   7.7500        Q  Third   \n",
       "\n",
       "       who  adult_male deck  embark_town alive  alone  \n",
       "531    man        True  NaN    Cherbourg    no   True  \n",
       "863  woman       False  NaN  Southampton    no  False  \n",
       "131    man        True  NaN  Southampton    no   True  \n",
       "469  child       False  NaN    Cherbourg   yes  False  \n",
       "196    man        True  NaN   Queenstown    no   True  "
      ]
     },
     "execution_count": 37,
     "metadata": {},
     "output_type": "execute_result"
    }
   ],
   "source": [
    "df = sns.load_dataset('titanic')\n",
    "df.sample(5)"
   ]
  },
  {
   "cell_type": "code",
   "execution_count": 38,
   "metadata": {},
   "outputs": [
    {
     "data": {
      "text/html": [
       "<div>\n",
       "<style scoped>\n",
       "    .dataframe tbody tr th:only-of-type {\n",
       "        vertical-align: middle;\n",
       "    }\n",
       "\n",
       "    .dataframe tbody tr th {\n",
       "        vertical-align: top;\n",
       "    }\n",
       "\n",
       "    .dataframe thead th {\n",
       "        text-align: right;\n",
       "    }\n",
       "</style>\n",
       "<table border=\"1\" class=\"dataframe\">\n",
       "  <thead>\n",
       "    <tr style=\"text-align: right;\">\n",
       "      <th></th>\n",
       "      <th>class</th>\n",
       "      <th>count</th>\n",
       "      <th>percent</th>\n",
       "      <th>cumulative_count</th>\n",
       "      <th>cumulative_percent</th>\n",
       "    </tr>\n",
       "  </thead>\n",
       "  <tbody>\n",
       "    <tr>\n",
       "      <th>0</th>\n",
       "      <td>Third</td>\n",
       "      <td>491</td>\n",
       "      <td>55.106622</td>\n",
       "      <td>491</td>\n",
       "      <td>55.106622</td>\n",
       "    </tr>\n",
       "    <tr>\n",
       "      <th>1</th>\n",
       "      <td>First</td>\n",
       "      <td>216</td>\n",
       "      <td>24.242424</td>\n",
       "      <td>707</td>\n",
       "      <td>79.349046</td>\n",
       "    </tr>\n",
       "    <tr>\n",
       "      <th>2</th>\n",
       "      <td>Second</td>\n",
       "      <td>184</td>\n",
       "      <td>20.650954</td>\n",
       "      <td>891</td>\n",
       "      <td>100.000000</td>\n",
       "    </tr>\n",
       "  </tbody>\n",
       "</table>\n",
       "</div>"
      ],
      "text/plain": [
       "    class  count    percent  cumulative_count  cumulative_percent\n",
       "0   Third    491  55.106622               491           55.106622\n",
       "1   First    216  24.242424               707           79.349046\n",
       "2  Second    184  20.650954               891          100.000000"
      ]
     },
     "execution_count": 38,
     "metadata": {},
     "output_type": "execute_result"
    }
   ],
   "source": [
    "# Tabela de Frequência\n",
    "# valores e percentagem acumulados\n",
    "df.stb.freq(['class'])"
   ]
  },
  {
   "cell_type": "code",
   "execution_count": 50,
   "metadata": {},
   "outputs": [
    {
     "data": {
      "text/html": [
       "<style  type=\"text/css\" >\n",
       "</style><table id=\"T_549318a2_de94_11ea_8b59_6c2b59523c39\" ><thead>    <tr>        <th class=\"blank level0\" ></th>        <th class=\"col_heading level0 col0\" >class</th>        <th class=\"col_heading level0 col1\" >count</th>        <th class=\"col_heading level0 col2\" >percent</th>        <th class=\"col_heading level0 col3\" >cumulative_count</th>        <th class=\"col_heading level0 col4\" >cumulative_percent</th>    </tr></thead><tbody>\n",
       "                <tr>\n",
       "                        <th id=\"T_549318a2_de94_11ea_8b59_6c2b59523c39level0_row0\" class=\"row_heading level0 row0\" >0</th>\n",
       "                        <td id=\"T_549318a2_de94_11ea_8b59_6c2b59523c39row0_col0\" class=\"data row0 col0\" >Third</td>\n",
       "                        <td id=\"T_549318a2_de94_11ea_8b59_6c2b59523c39row0_col1\" class=\"data row0 col1\" >491</td>\n",
       "                        <td id=\"T_549318a2_de94_11ea_8b59_6c2b59523c39row0_col2\" class=\"data row0 col2\" >55.11%</td>\n",
       "                        <td id=\"T_549318a2_de94_11ea_8b59_6c2b59523c39row0_col3\" class=\"data row0 col3\" >491</td>\n",
       "                        <td id=\"T_549318a2_de94_11ea_8b59_6c2b59523c39row0_col4\" class=\"data row0 col4\" >55.11%</td>\n",
       "            </tr>\n",
       "            <tr>\n",
       "                        <th id=\"T_549318a2_de94_11ea_8b59_6c2b59523c39level0_row1\" class=\"row_heading level0 row1\" >1</th>\n",
       "                        <td id=\"T_549318a2_de94_11ea_8b59_6c2b59523c39row1_col0\" class=\"data row1 col0\" >First</td>\n",
       "                        <td id=\"T_549318a2_de94_11ea_8b59_6c2b59523c39row1_col1\" class=\"data row1 col1\" >216</td>\n",
       "                        <td id=\"T_549318a2_de94_11ea_8b59_6c2b59523c39row1_col2\" class=\"data row1 col2\" >24.24%</td>\n",
       "                        <td id=\"T_549318a2_de94_11ea_8b59_6c2b59523c39row1_col3\" class=\"data row1 col3\" >707</td>\n",
       "                        <td id=\"T_549318a2_de94_11ea_8b59_6c2b59523c39row1_col4\" class=\"data row1 col4\" >79.35%</td>\n",
       "            </tr>\n",
       "            <tr>\n",
       "                        <th id=\"T_549318a2_de94_11ea_8b59_6c2b59523c39level0_row2\" class=\"row_heading level0 row2\" >2</th>\n",
       "                        <td id=\"T_549318a2_de94_11ea_8b59_6c2b59523c39row2_col0\" class=\"data row2 col0\" >Second</td>\n",
       "                        <td id=\"T_549318a2_de94_11ea_8b59_6c2b59523c39row2_col1\" class=\"data row2 col1\" >184</td>\n",
       "                        <td id=\"T_549318a2_de94_11ea_8b59_6c2b59523c39row2_col2\" class=\"data row2 col2\" >20.65%</td>\n",
       "                        <td id=\"T_549318a2_de94_11ea_8b59_6c2b59523c39row2_col3\" class=\"data row2 col3\" >891</td>\n",
       "                        <td id=\"T_549318a2_de94_11ea_8b59_6c2b59523c39row2_col4\" class=\"data row2 col4\" >100.00%</td>\n",
       "            </tr>\n",
       "    </tbody></table>"
      ],
      "text/plain": [
       "<pandas.io.formats.style.Styler at 0x25759cbb408>"
      ]
     },
     "execution_count": 50,
     "metadata": {},
     "output_type": "execute_result"
    }
   ],
   "source": [
    "# Para mostrar valores em percetagens\n",
    "# incluir 'style=True'\n",
    "df.stb.freq(['class'], style=True)"
   ]
  },
  {
   "cell_type": "code",
   "execution_count": 51,
   "metadata": {},
   "outputs": [
    {
     "data": {
      "text/html": [
       "<style  type=\"text/css\" >\n",
       "</style><table id=\"T_56952d7e_de94_11ea_9e7b_6c2b59523c39\" ><thead>    <tr>        <th class=\"blank level0\" ></th>        <th class=\"col_heading level0 col0\" >class</th>        <th class=\"col_heading level0 col1\" >sex</th>        <th class=\"col_heading level0 col2\" >count</th>        <th class=\"col_heading level0 col3\" >percent</th>        <th class=\"col_heading level0 col4\" >cumulative_count</th>        <th class=\"col_heading level0 col5\" >cumulative_percent</th>    </tr></thead><tbody>\n",
       "                <tr>\n",
       "                        <th id=\"T_56952d7e_de94_11ea_9e7b_6c2b59523c39level0_row0\" class=\"row_heading level0 row0\" >0</th>\n",
       "                        <td id=\"T_56952d7e_de94_11ea_9e7b_6c2b59523c39row0_col0\" class=\"data row0 col0\" >Third</td>\n",
       "                        <td id=\"T_56952d7e_de94_11ea_9e7b_6c2b59523c39row0_col1\" class=\"data row0 col1\" >male</td>\n",
       "                        <td id=\"T_56952d7e_de94_11ea_9e7b_6c2b59523c39row0_col2\" class=\"data row0 col2\" >347</td>\n",
       "                        <td id=\"T_56952d7e_de94_11ea_9e7b_6c2b59523c39row0_col3\" class=\"data row0 col3\" >38.95%</td>\n",
       "                        <td id=\"T_56952d7e_de94_11ea_9e7b_6c2b59523c39row0_col4\" class=\"data row0 col4\" >347</td>\n",
       "                        <td id=\"T_56952d7e_de94_11ea_9e7b_6c2b59523c39row0_col5\" class=\"data row0 col5\" >38.95%</td>\n",
       "            </tr>\n",
       "            <tr>\n",
       "                        <th id=\"T_56952d7e_de94_11ea_9e7b_6c2b59523c39level0_row1\" class=\"row_heading level0 row1\" >1</th>\n",
       "                        <td id=\"T_56952d7e_de94_11ea_9e7b_6c2b59523c39row1_col0\" class=\"data row1 col0\" >Third</td>\n",
       "                        <td id=\"T_56952d7e_de94_11ea_9e7b_6c2b59523c39row1_col1\" class=\"data row1 col1\" >female</td>\n",
       "                        <td id=\"T_56952d7e_de94_11ea_9e7b_6c2b59523c39row1_col2\" class=\"data row1 col2\" >144</td>\n",
       "                        <td id=\"T_56952d7e_de94_11ea_9e7b_6c2b59523c39row1_col3\" class=\"data row1 col3\" >16.16%</td>\n",
       "                        <td id=\"T_56952d7e_de94_11ea_9e7b_6c2b59523c39row1_col4\" class=\"data row1 col4\" >491</td>\n",
       "                        <td id=\"T_56952d7e_de94_11ea_9e7b_6c2b59523c39row1_col5\" class=\"data row1 col5\" >55.11%</td>\n",
       "            </tr>\n",
       "            <tr>\n",
       "                        <th id=\"T_56952d7e_de94_11ea_9e7b_6c2b59523c39level0_row2\" class=\"row_heading level0 row2\" >2</th>\n",
       "                        <td id=\"T_56952d7e_de94_11ea_9e7b_6c2b59523c39row2_col0\" class=\"data row2 col0\" >First</td>\n",
       "                        <td id=\"T_56952d7e_de94_11ea_9e7b_6c2b59523c39row2_col1\" class=\"data row2 col1\" >male</td>\n",
       "                        <td id=\"T_56952d7e_de94_11ea_9e7b_6c2b59523c39row2_col2\" class=\"data row2 col2\" >122</td>\n",
       "                        <td id=\"T_56952d7e_de94_11ea_9e7b_6c2b59523c39row2_col3\" class=\"data row2 col3\" >13.69%</td>\n",
       "                        <td id=\"T_56952d7e_de94_11ea_9e7b_6c2b59523c39row2_col4\" class=\"data row2 col4\" >613</td>\n",
       "                        <td id=\"T_56952d7e_de94_11ea_9e7b_6c2b59523c39row2_col5\" class=\"data row2 col5\" >68.80%</td>\n",
       "            </tr>\n",
       "            <tr>\n",
       "                        <th id=\"T_56952d7e_de94_11ea_9e7b_6c2b59523c39level0_row3\" class=\"row_heading level0 row3\" >3</th>\n",
       "                        <td id=\"T_56952d7e_de94_11ea_9e7b_6c2b59523c39row3_col0\" class=\"data row3 col0\" >Second</td>\n",
       "                        <td id=\"T_56952d7e_de94_11ea_9e7b_6c2b59523c39row3_col1\" class=\"data row3 col1\" >male</td>\n",
       "                        <td id=\"T_56952d7e_de94_11ea_9e7b_6c2b59523c39row3_col2\" class=\"data row3 col2\" >108</td>\n",
       "                        <td id=\"T_56952d7e_de94_11ea_9e7b_6c2b59523c39row3_col3\" class=\"data row3 col3\" >12.12%</td>\n",
       "                        <td id=\"T_56952d7e_de94_11ea_9e7b_6c2b59523c39row3_col4\" class=\"data row3 col4\" >721</td>\n",
       "                        <td id=\"T_56952d7e_de94_11ea_9e7b_6c2b59523c39row3_col5\" class=\"data row3 col5\" >80.92%</td>\n",
       "            </tr>\n",
       "            <tr>\n",
       "                        <th id=\"T_56952d7e_de94_11ea_9e7b_6c2b59523c39level0_row4\" class=\"row_heading level0 row4\" >4</th>\n",
       "                        <td id=\"T_56952d7e_de94_11ea_9e7b_6c2b59523c39row4_col0\" class=\"data row4 col0\" >First</td>\n",
       "                        <td id=\"T_56952d7e_de94_11ea_9e7b_6c2b59523c39row4_col1\" class=\"data row4 col1\" >female</td>\n",
       "                        <td id=\"T_56952d7e_de94_11ea_9e7b_6c2b59523c39row4_col2\" class=\"data row4 col2\" >94</td>\n",
       "                        <td id=\"T_56952d7e_de94_11ea_9e7b_6c2b59523c39row4_col3\" class=\"data row4 col3\" >10.55%</td>\n",
       "                        <td id=\"T_56952d7e_de94_11ea_9e7b_6c2b59523c39row4_col4\" class=\"data row4 col4\" >815</td>\n",
       "                        <td id=\"T_56952d7e_de94_11ea_9e7b_6c2b59523c39row4_col5\" class=\"data row4 col5\" >91.47%</td>\n",
       "            </tr>\n",
       "            <tr>\n",
       "                        <th id=\"T_56952d7e_de94_11ea_9e7b_6c2b59523c39level0_row5\" class=\"row_heading level0 row5\" >5</th>\n",
       "                        <td id=\"T_56952d7e_de94_11ea_9e7b_6c2b59523c39row5_col0\" class=\"data row5 col0\" >Second</td>\n",
       "                        <td id=\"T_56952d7e_de94_11ea_9e7b_6c2b59523c39row5_col1\" class=\"data row5 col1\" >female</td>\n",
       "                        <td id=\"T_56952d7e_de94_11ea_9e7b_6c2b59523c39row5_col2\" class=\"data row5 col2\" >76</td>\n",
       "                        <td id=\"T_56952d7e_de94_11ea_9e7b_6c2b59523c39row5_col3\" class=\"data row5 col3\" >8.53%</td>\n",
       "                        <td id=\"T_56952d7e_de94_11ea_9e7b_6c2b59523c39row5_col4\" class=\"data row5 col4\" >891</td>\n",
       "                        <td id=\"T_56952d7e_de94_11ea_9e7b_6c2b59523c39row5_col5\" class=\"data row5 col5\" >100.00%</td>\n",
       "            </tr>\n",
       "    </tbody></table>"
      ],
      "text/plain": [
       "<pandas.io.formats.style.Styler at 0x25759dfa148>"
      ]
     },
     "execution_count": 51,
     "metadata": {},
     "output_type": "execute_result"
    }
   ],
   "source": [
    "# Adicinar mais uma couluna para \n",
    "# para melhor entendimento da distribuição\n",
    "df.stb.freq(['class', 'sex'], style=True)"
   ]
  },
  {
   "cell_type": "code",
   "execution_count": 54,
   "metadata": {},
   "outputs": [
    {
     "data": {
      "text/html": [
       "<style  type=\"text/css\" >\n",
       "</style><table id=\"T_89dbfc48_de94_11ea_ae12_6c2b59523c39\" ><thead>    <tr>        <th class=\"blank level0\" ></th>        <th class=\"col_heading level0 col0\" >missing</th>        <th class=\"col_heading level0 col1\" >total</th>        <th class=\"col_heading level0 col2\" >percent</th>    </tr></thead><tbody>\n",
       "                <tr>\n",
       "                        <th id=\"T_89dbfc48_de94_11ea_ae12_6c2b59523c39level0_row0\" class=\"row_heading level0 row0\" >deck</th>\n",
       "                        <td id=\"T_89dbfc48_de94_11ea_ae12_6c2b59523c39row0_col0\" class=\"data row0 col0\" >688</td>\n",
       "                        <td id=\"T_89dbfc48_de94_11ea_ae12_6c2b59523c39row0_col1\" class=\"data row0 col1\" >891</td>\n",
       "                        <td id=\"T_89dbfc48_de94_11ea_ae12_6c2b59523c39row0_col2\" class=\"data row0 col2\" >77.22%</td>\n",
       "            </tr>\n",
       "            <tr>\n",
       "                        <th id=\"T_89dbfc48_de94_11ea_ae12_6c2b59523c39level0_row1\" class=\"row_heading level0 row1\" >age</th>\n",
       "                        <td id=\"T_89dbfc48_de94_11ea_ae12_6c2b59523c39row1_col0\" class=\"data row1 col0\" >177</td>\n",
       "                        <td id=\"T_89dbfc48_de94_11ea_ae12_6c2b59523c39row1_col1\" class=\"data row1 col1\" >891</td>\n",
       "                        <td id=\"T_89dbfc48_de94_11ea_ae12_6c2b59523c39row1_col2\" class=\"data row1 col2\" >19.87%</td>\n",
       "            </tr>\n",
       "            <tr>\n",
       "                        <th id=\"T_89dbfc48_de94_11ea_ae12_6c2b59523c39level0_row2\" class=\"row_heading level0 row2\" >embarked</th>\n",
       "                        <td id=\"T_89dbfc48_de94_11ea_ae12_6c2b59523c39row2_col0\" class=\"data row2 col0\" >2</td>\n",
       "                        <td id=\"T_89dbfc48_de94_11ea_ae12_6c2b59523c39row2_col1\" class=\"data row2 col1\" >891</td>\n",
       "                        <td id=\"T_89dbfc48_de94_11ea_ae12_6c2b59523c39row2_col2\" class=\"data row2 col2\" >0.22%</td>\n",
       "            </tr>\n",
       "            <tr>\n",
       "                        <th id=\"T_89dbfc48_de94_11ea_ae12_6c2b59523c39level0_row3\" class=\"row_heading level0 row3\" >embark_town</th>\n",
       "                        <td id=\"T_89dbfc48_de94_11ea_ae12_6c2b59523c39row3_col0\" class=\"data row3 col0\" >2</td>\n",
       "                        <td id=\"T_89dbfc48_de94_11ea_ae12_6c2b59523c39row3_col1\" class=\"data row3 col1\" >891</td>\n",
       "                        <td id=\"T_89dbfc48_de94_11ea_ae12_6c2b59523c39row3_col2\" class=\"data row3 col2\" >0.22%</td>\n",
       "            </tr>\n",
       "    </tbody></table>"
      ],
      "text/plain": [
       "<pandas.io.formats.style.Styler at 0x25758654048>"
      ]
     },
     "execution_count": 54,
     "metadata": {},
     "output_type": "execute_result"
    }
   ],
   "source": [
    "# Exibir valores faltantes por coluna\n",
    "# Remover colunas sem dados faltantes: clip_0=True\n",
    "df.stb.missing(clip_0=True,style=True)"
   ]
  },
  {
   "cell_type": "code",
   "execution_count": null,
   "metadata": {},
   "outputs": [],
   "source": []
  },
  {
   "cell_type": "code",
   "execution_count": null,
   "metadata": {},
   "outputs": [],
   "source": []
  },
  {
   "cell_type": "code",
   "execution_count": null,
   "metadata": {},
   "outputs": [],
   "source": []
  },
  {
   "cell_type": "code",
   "execution_count": null,
   "metadata": {},
   "outputs": [],
   "source": []
  },
  {
   "cell_type": "code",
   "execution_count": null,
   "metadata": {},
   "outputs": [],
   "source": []
  }
 ],
 "metadata": {
  "kernelspec": {
   "display_name": "Python 3",
   "language": "python",
   "name": "python3"
  },
  "language_info": {
   "codemirror_mode": {
    "name": "ipython",
    "version": 3
   },
   "file_extension": ".py",
   "mimetype": "text/x-python",
   "name": "python",
   "nbconvert_exporter": "python",
   "pygments_lexer": "ipython3",
   "version": "3.7.6"
  },
  "toc": {
   "base_numbering": 1,
   "nav_menu": {},
   "number_sections": false,
   "sideBar": true,
   "skip_h1_title": false,
   "title_cell": "Sumário",
   "title_sidebar": "Sumário",
   "toc_cell": true,
   "toc_position": {
    "height": "calc(100% - 180px)",
    "left": "10px",
    "top": "150px",
    "width": "165px"
   },
   "toc_section_display": true,
   "toc_window_display": false
  },
  "varInspector": {
   "cols": {
    "lenName": 16,
    "lenType": 16,
    "lenVar": 40
   },
   "kernels_config": {
    "python": {
     "delete_cmd_postfix": "",
     "delete_cmd_prefix": "del ",
     "library": "var_list.py",
     "varRefreshCmd": "print(var_dic_list())"
    },
    "r": {
     "delete_cmd_postfix": ") ",
     "delete_cmd_prefix": "rm(",
     "library": "var_list.r",
     "varRefreshCmd": "cat(var_dic_list()) "
    }
   },
   "types_to_exclude": [
    "module",
    "function",
    "builtin_function_or_method",
    "instance",
    "_Feature"
   ],
   "window_display": false
  }
 },
 "nbformat": 4,
 "nbformat_minor": 4
}
